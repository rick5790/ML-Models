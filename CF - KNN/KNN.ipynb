{
 "cells": [
  {
   "cell_type": "markdown",
   "metadata": {
    "ExecuteTime": {
     "end_time": "2021-03-16T08:52:40.320357Z",
     "start_time": "2021-03-16T08:52:40.314901Z"
    }
   },
   "source": [
    "# This Document was build for K - Nearset Neibogher \n",
    "# <font color='firebrick'> Author: Rick Ou\n",
    "# <font color='firebrick'>  Version: 1.0\n",
    "Updated 3/16/2021\n",
    "Package Used: Panda, sklearn\n",
    "(Supervised Classification Model)"
   ]
  },
  {
   "cell_type": "code",
   "execution_count": null,
   "metadata": {},
   "outputs": [],
   "source": []
  }
 ],
 "metadata": {
  "kernelspec": {
   "display_name": "Python 3",
   "language": "python",
   "name": "python3"
  },
  "language_info": {
   "codemirror_mode": {
    "name": "ipython",
    "version": 3
   },
   "file_extension": ".py",
   "mimetype": "text/x-python",
   "name": "python",
   "nbconvert_exporter": "python",
   "pygments_lexer": "ipython3",
   "version": "3.8.3"
  }
 },
 "nbformat": 4,
 "nbformat_minor": 4
}
